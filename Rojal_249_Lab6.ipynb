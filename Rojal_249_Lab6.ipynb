{
 "cells": [
  {
   "cell_type": "code",
   "execution_count": 10,
   "metadata": {},
   "outputs": [
    {
     "name": "stdout",
     "output_type": "stream",
     "text": [
      "Format:(xxx)-xxx-xxxx or xxx-xxx-xxxx\n",
      "Enter the phone number of your choice in the above given format : \n",
      "123-123-1234\n",
      "Valid Phone Number: 123-123-1234\n"
     ]
    }
   ],
   "source": [
    "import re\n",
    "\n",
    "def find(text):\n",
    "    pattern = r'(\\(\\d{3}\\)-\\d{3}-\\d{4}|\\d{3}-\\d{3}-\\d{4})'\n",
    "    match = re.search(pattern, text)\n",
    "    \n",
    "    if match:\n",
    "        return match.group()\n",
    "    else:\n",
    "        return \"No valid phone number found.\"\n",
    "\n",
    "print(\"Format:(xxx)-xxx-xxxx or xxx-xxx-xxxx\")\n",
    "phoneno=input(print(\"Enter the phone number of your choice in the above given format : \"))\n",
    "print(phoneno)\n",
    "phone_number = find(phoneno)\n",
    "print(\"Valid Phone Number:\", phone_number)\n"
   ]
  },
  {
   "cell_type": "code",
   "execution_count": 29,
   "metadata": {},
   "outputs": [
    {
     "name": "stdout",
     "output_type": "stream",
     "text": [
      "Enter a password : \n",
      "Rojal*1234\n",
      "The entered password is strong :)\n"
     ]
    }
   ],
   "source": [
    "import re\n",
    "def password(string):\n",
    "    if len(string)<8:\n",
    "        return False\n",
    "    if not re.search(r'[A-Z]',string):\n",
    "        return False\n",
    "    if not re.search(r'[a-z]',string):\n",
    "        return False\n",
    "    if not re.search(r'\\d',string):\n",
    "        return False\n",
    "    if not re.search(r'[!@#$%^&*()_+{}[\\]:;<>,.?~]',string):\n",
    "        return False\n",
    "    \n",
    "    return True\n",
    "\n",
    "string=input(print(\"Enter a password : \"))\n",
    "\n",
    "print(string)\n",
    "if (password(string))==True:\n",
    "    print(\"The entered password is strong :)\")\n",
    "else:\n",
    "    print(\"The entered password is weak :(\")\n",
    "\n",
    "\n",
    "\n",
    "\n"
   ]
  }
 ],
 "metadata": {
  "kernelspec": {
   "display_name": "Python 3",
   "language": "python",
   "name": "python3"
  },
  "language_info": {
   "codemirror_mode": {
    "name": "ipython",
    "version": 3
   },
   "file_extension": ".py",
   "mimetype": "text/x-python",
   "name": "python",
   "nbconvert_exporter": "python",
   "pygments_lexer": "ipython3",
   "version": "3.10.11"
  },
  "orig_nbformat": 4
 },
 "nbformat": 4,
 "nbformat_minor": 2
}
