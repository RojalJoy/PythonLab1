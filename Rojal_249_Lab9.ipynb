{
 "cells": [
  {
   "cell_type": "markdown",
   "metadata": {},
   "source": [
    "1.Write a program to distinguish between Array Indexing and Fancy Indexing."
   ]
  },
  {
   "cell_type": "code",
   "execution_count": 66,
   "metadata": {},
   "outputs": [
    {
     "name": "stdout",
     "output_type": "stream",
     "text": [
      "Array Indexing:  4\n",
      "Fancy Indexing:  [3 5 7 9]\n"
     ]
    }
   ],
   "source": [
    "import numpy as np\n",
    "arr1=np.array([1,2,3,4,5,6,7,8,9])\n",
    "#Array(Simple) Indexing\n",
    "ai=arr1[3]\n",
    "print(\"Array Indexing: \",ai)\n",
    "#Fancy Indexing\n",
    "fi=arr1[[2,4,6,8]]\n",
    "print(\"Fancy Indexing: \",fi)\n"
   ]
  },
  {
   "cell_type": "markdown",
   "metadata": {},
   "source": [
    "2.Execute the 2D array Slicing."
   ]
  },
  {
   "cell_type": "code",
   "execution_count": 67,
   "metadata": {},
   "outputs": [
    {
     "name": "stdout",
     "output_type": "stream",
     "text": [
      "[ 8  9 10 11]\n"
     ]
    }
   ],
   "source": [
    "import numpy as np\n",
    "arr=np.array([[1,2,3,4,5,6],[7,8,9,10,11,12]])\n",
    "print(arr[1][1:5])"
   ]
  },
  {
   "cell_type": "markdown",
   "metadata": {},
   "source": [
    "3.Create the 5-Dimensional arrays using ‘ndmin’."
   ]
  },
  {
   "cell_type": "code",
   "execution_count": 68,
   "metadata": {},
   "outputs": [
    {
     "name": "stdout",
     "output_type": "stream",
     "text": [
      "The 5 dimensional array using ndmin is :  [[[[[9 8 7 6]]]]]\n"
     ]
    }
   ],
   "source": [
    "import numpy as np\n",
    "arr1=np.array([9,8,7,6],ndmin=5)\n",
    "print(\"The 5 dimensional array using ndmin is : \",arr1)\n"
   ]
  },
  {
   "cell_type": "markdown",
   "metadata": {},
   "source": [
    "4.Reshape the array from 1-D to 2-D array."
   ]
  },
  {
   "cell_type": "code",
   "execution_count": 69,
   "metadata": {},
   "outputs": [
    {
     "name": "stdout",
     "output_type": "stream",
     "text": [
      "The original array : [0 9 8 7 6 5 4 3 2 1]\n",
      "Array after reshapeing : \n",
      " [[0 9 8 7 6]\n",
      " [5 4 3 2 1]]\n"
     ]
    }
   ],
   "source": [
    "import numpy as np\n",
    "arr=np.array([0,9,8,7,6,5,4,3,2,1])\n",
    "print(\"The original array :\",arr)\n",
    "reshapearr=arr.reshape(2,5)\n",
    "print(\"Array after reshapeing : \\n\",reshapearr)"
   ]
  },
  {
   "cell_type": "markdown",
   "metadata": {},
   "source": [
    "5.Perform the Stack functions in Numpy arrays – Stack(), hstack(), vstack(), and dstack()."
   ]
  },
  {
   "cell_type": "code",
   "execution_count": 70,
   "metadata": {},
   "outputs": [
    {
     "name": "stdout",
     "output_type": "stream",
     "text": [
      "First array :  [ 0 11 22 33 44 55 66 77 88 99]\n",
      "Second array :  [ 10  20  30  40  50  60  70  80  90 100]\n",
      "\n",
      "Arrays after using stack : \n",
      " [[  0  11  22  33  44  55  66  77  88  99]\n",
      " [ 10  20  30  40  50  60  70  80  90 100]]\n",
      "\n",
      "Arrays after using hstack : \n",
      " [  0  11  22  33  44  55  66  77  88  99  10  20  30  40  50  60  70  80\n",
      "  90 100]\n",
      "\n",
      "Arrays after using vstack : \n",
      " [[  0  11  22  33  44  55  66  77  88  99]\n",
      " [ 10  20  30  40  50  60  70  80  90 100]]\n",
      "\n",
      "Arrays after using dstack :\n",
      " [[[  0  10]\n",
      "  [ 11  20]\n",
      "  [ 22  30]\n",
      "  [ 33  40]\n",
      "  [ 44  50]\n",
      "  [ 55  60]\n",
      "  [ 66  70]\n",
      "  [ 77  80]\n",
      "  [ 88  90]\n",
      "  [ 99 100]]]\n"
     ]
    }
   ],
   "source": [
    "import numpy as np\n",
    "arr1=np.array([00,11,22,33,44,55,66,77,88,99])\n",
    "print(\"First array : \",arr1)\n",
    "arr2=np.array([10,20,30,40,50,60,70,80,90,100])\n",
    "print(\"Second array : \",arr2)\n",
    "\n",
    "#Using stack\n",
    "sarr=np.stack((arr1,arr2))\n",
    "print(\"\\nArrays after using stack : \\n\",sarr)\n",
    "\n",
    "#Using hstack\n",
    "harr=np.hstack((arr1,arr2))\n",
    "print(\"\\nArrays after using hstack : \\n\",harr)\n",
    "\n",
    "#Using vstack \n",
    "varray=np.vstack((arr1,arr2))\n",
    "print(\"\\nArrays after using vstack : \\n\",varray)\n",
    "\n",
    "#Using dstack\n",
    "darray=np.dstack((arr1,arr2))\n",
    "print(\"\\nArrays after using dstack :\\n\",darray)\n"
   ]
  },
  {
   "cell_type": "markdown",
   "metadata": {},
   "source": [
    "6.Perform the searchsort method in Numpy array."
   ]
  },
  {
   "cell_type": "code",
   "execution_count": 71,
   "metadata": {},
   "outputs": [
    {
     "name": "stdout",
     "output_type": "stream",
     "text": [
      "Search Sort :  [3 4 6 0]\n",
      "(using side) :  1\n"
     ]
    }
   ],
   "source": [
    "import numpy as np\n",
    "arr=np.array([12,23,34,45,56,67,78])\n",
    "\n",
    "sarr=np.searchsorted(arr,[45,56,78,12])\n",
    "print(\"Search Sort : \",sarr)\n",
    "\n",
    "sarray=np.searchsorted(arr,23,side='left')\n",
    "print(\"(using side) : \",sarray)"
   ]
  },
  {
   "cell_type": "markdown",
   "metadata": {},
   "source": [
    "7.Create Numpy Structured array using your domain features."
   ]
  },
  {
   "cell_type": "code",
   "execution_count": 72,
   "metadata": {},
   "outputs": [
    {
     "name": "stdout",
     "output_type": "stream",
     "text": [
      "My domain features :  [('Rojal', 'Online Game Rental Site', 2347249)]\n"
     ]
    }
   ],
   "source": [
    "import numpy as np\n",
    "me=np.array([('Rojal','Online Game Rental Site',2347249)],\n",
    "            dtype=[('name',(np.str_,10)),('age',np.str_,100),('registerno',np.int32)])\n",
    "print(\"My domain features : \",me)\n",
    "    "
   ]
  },
  {
   "cell_type": "markdown",
   "metadata": {},
   "source": [
    "8.Create Data frame using List and Dictionary."
   ]
  },
  {
   "cell_type": "code",
   "execution_count": 73,
   "metadata": {},
   "outputs": [
    {
     "name": "stdout",
     "output_type": "stream",
     "text": [
      "            Books  Year\n",
      "0        Aarachar  2012\n",
      "1  Harry Potter 1  1997\n",
      "2   Percy Jackson  2010\n",
      "3        Chemmeen  1956\n",
      "\n",
      "\n",
      "    Years\n",
      "a   2012\n",
      "b   1997\n",
      "c   2010\n",
      "d   1956\n"
     ]
    }
   ],
   "source": [
    "import pandas as pd\n",
    "#Dataframe using Dictionary\n",
    "df={\n",
    "    'Books':['Aarachar','Harry Potter 1','Percy Jackson','Chemmeen'],\n",
    "    'Year':[2012,1997,2010,1956]\n",
    "}\n",
    "mybooks=pd.DataFrame(df)\n",
    "print(mybooks)\n",
    "\n",
    "#DataFrame using list\n",
    "mylist=[2012,1997,2010,1956]\n",
    "mydata=pd.DataFrame(mylist,index=['a','b','c','d'],\n",
    "                    columns=['Years'])\n",
    "print(\"\\n\\n\",mydata)"
   ]
  },
  {
   "cell_type": "markdown",
   "metadata": {},
   "source": [
    "9.Create Data frame on your Domain area and perform the following operations to find and eliminate the\n",
    "missing data from the dataset.\n",
    "• isnull()\n",
    "• notnull()\n",
    "• dropna()\n",
    "• fillna()\n",
    "• replace()\n",
    "• interpolate()"
   ]
  },
  {
   "cell_type": "code",
   "execution_count": 74,
   "metadata": {},
   "outputs": [
    {
     "name": "stdout",
     "output_type": "stream",
     "text": [
      "                            Title    Year\n",
      "0                       Alan Wake  2012.0\n",
      "1             Assassins Creed III     NaN\n",
      "2  Assassins Creed IV: Black Flag  2013.0\n",
      "3    Assassins Creed: Brotherhood  2010.0\n",
      "4    Assassins Creed: Revelations     NaN\n",
      "5                        BioShock  2011.0\n",
      "\n",
      "\n",
      "    Title   Year\n",
      "0  False  False\n",
      "1  False   True\n",
      "2  False  False\n",
      "3  False  False\n",
      "4  False   True\n",
      "5  False  False\n",
      "\n",
      "\n",
      "    Title   Year\n",
      "0   True   True\n",
      "1   True  False\n",
      "2   True   True\n",
      "3   True   True\n",
      "4   True  False\n",
      "5   True   True\n"
     ]
    }
   ],
   "source": [
    "import pandas as pd\n",
    "import numpy as np\n",
    "Games={'Title':['Alan Wake','Assassins Creed III','Assassins Creed IV: Black Flag','Assassins Creed: Brotherhood','Assassins Creed: Revelations','BioShock'],\n",
    "    'Year':[2012,np.nan,2013,2010,np.nan,2011]}\n",
    "\n",
    "df=pd.DataFrame(Games)\n",
    "print(df)\n",
    "#using isnull()\n",
    "print(\"\\n\\n\",df.isnull())\n",
    "#using notnull()\n",
    "print(\"\\n\\n\",df.notnull())\n"
   ]
  },
  {
   "cell_type": "code",
   "execution_count": 75,
   "metadata": {},
   "outputs": [
    {
     "name": "stdout",
     "output_type": "stream",
     "text": [
      "\n",
      "\n",
      "                             Title    Year\n",
      "0                       Alan Wake  2012.0\n",
      "2  Assassins Creed IV: Black Flag  2013.0\n",
      "3    Assassins Creed: Brotherhood  2010.0\n",
      "5                        BioShock  2011.0\n",
      "\n",
      "\n",
      "                             Title    Year\n",
      "0                       Alan Wake  2012.0\n",
      "1             Assassins Creed III     0.0\n",
      "2  Assassins Creed IV: Black Flag  2013.0\n",
      "3    Assassins Creed: Brotherhood  2010.0\n",
      "4    Assassins Creed: Revelations     0.0\n",
      "5                        BioShock  2011.0\n",
      "\n",
      "\n",
      "                             Title    Year\n",
      "0                       Alan Wake  2012.0\n",
      "1             Assassins Creed III  2012.0\n",
      "2  Assassins Creed IV: Black Flag  2013.0\n",
      "3    Assassins Creed: Brotherhood  2010.0\n",
      "4    Assassins Creed: Revelations  2010.0\n",
      "5                        BioShock  2011.0\n"
     ]
    },
    {
     "name": "stderr",
     "output_type": "stream",
     "text": [
      "C:\\Users\\rojal\\AppData\\Local\\Temp\\ipykernel_11780\\975439647.py:6: FutureWarning: DataFrame.fillna with 'method' is deprecated and will raise in a future version. Use obj.ffill() or obj.bfill() instead.\n",
      "  print(\"\\n\\n\",df.fillna(method='pad'))\n"
     ]
    }
   ],
   "source": [
    "#Using dropna()\n",
    "print(\"\\n\\n\",df.dropna())\n",
    "#Using fillna(0)\n",
    "print(\"\\n\\n\",df.fillna(0))\n",
    "#Using fillna(method='pad')\n",
    "print(\"\\n\\n\",df.fillna(method='pad'))\n"
   ]
  },
  {
   "cell_type": "code",
   "execution_count": 76,
   "metadata": {},
   "outputs": [
    {
     "name": "stdout",
     "output_type": "stream",
     "text": [
      "\n",
      "\n",
      "                             Title    Year\n",
      "0                       Alan Wake  2012.0\n",
      "1             Assassins Creed III  2013.0\n",
      "2  Assassins Creed IV: Black Flag  2013.0\n",
      "3    Assassins Creed: Brotherhood  2010.0\n",
      "4    Assassins Creed: Revelations  2011.0\n",
      "5                        BioShock  2011.0\n",
      "\n",
      "\n",
      "                             Title    Year\n",
      "0                       Alan Wake  2012.0\n",
      "1             Assassins Creed III     NaN\n",
      "2  Assassins Creed IV: Black Flag  2013.0\n",
      "3    Assassins Creed: Brotherhood  2010.0\n",
      "4    Assassins Creed: Revelations     NaN\n",
      "5                       BioShock2  2011.0\n"
     ]
    },
    {
     "name": "stderr",
     "output_type": "stream",
     "text": [
      "C:\\Users\\rojal\\AppData\\Local\\Temp\\ipykernel_11780\\385218963.py:2: FutureWarning: DataFrame.fillna with 'method' is deprecated and will raise in a future version. Use obj.ffill() or obj.bfill() instead.\n",
      "  print(\"\\n\\n\",df.fillna(method='bfill'))\n",
      "C:\\Users\\rojal\\AppData\\Local\\Temp\\ipykernel_11780\\385218963.py:6: FutureWarning: DataFrame.interpolate with object dtype is deprecated and will raise in a future version. Call obj.infer_objects(copy=False) before interpolating instead.\n",
      "  df.interpolate(method ='linear', limit_direction ='forward')\n"
     ]
    },
    {
     "data": {
      "text/html": [
       "<div>\n",
       "<style scoped>\n",
       "    .dataframe tbody tr th:only-of-type {\n",
       "        vertical-align: middle;\n",
       "    }\n",
       "\n",
       "    .dataframe tbody tr th {\n",
       "        vertical-align: top;\n",
       "    }\n",
       "\n",
       "    .dataframe thead th {\n",
       "        text-align: right;\n",
       "    }\n",
       "</style>\n",
       "<table border=\"1\" class=\"dataframe\">\n",
       "  <thead>\n",
       "    <tr style=\"text-align: right;\">\n",
       "      <th></th>\n",
       "      <th>Title</th>\n",
       "      <th>Year</th>\n",
       "    </tr>\n",
       "  </thead>\n",
       "  <tbody>\n",
       "    <tr>\n",
       "      <th>0</th>\n",
       "      <td>Alan Wake</td>\n",
       "      <td>2012.0</td>\n",
       "    </tr>\n",
       "    <tr>\n",
       "      <th>1</th>\n",
       "      <td>Assassins Creed III</td>\n",
       "      <td>2012.5</td>\n",
       "    </tr>\n",
       "    <tr>\n",
       "      <th>2</th>\n",
       "      <td>Assassins Creed IV: Black Flag</td>\n",
       "      <td>2013.0</td>\n",
       "    </tr>\n",
       "    <tr>\n",
       "      <th>3</th>\n",
       "      <td>Assassins Creed: Brotherhood</td>\n",
       "      <td>2010.0</td>\n",
       "    </tr>\n",
       "    <tr>\n",
       "      <th>4</th>\n",
       "      <td>Assassins Creed: Revelations</td>\n",
       "      <td>2010.5</td>\n",
       "    </tr>\n",
       "    <tr>\n",
       "      <th>5</th>\n",
       "      <td>BioShock</td>\n",
       "      <td>2011.0</td>\n",
       "    </tr>\n",
       "  </tbody>\n",
       "</table>\n",
       "</div>"
      ],
      "text/plain": [
       "                            Title    Year\n",
       "0                       Alan Wake  2012.0\n",
       "1             Assassins Creed III  2012.5\n",
       "2  Assassins Creed IV: Black Flag  2013.0\n",
       "3    Assassins Creed: Brotherhood  2010.0\n",
       "4    Assassins Creed: Revelations  2010.5\n",
       "5                        BioShock  2011.0"
      ]
     },
     "execution_count": 76,
     "metadata": {},
     "output_type": "execute_result"
    }
   ],
   "source": [
    "#Using fillna(method='bfill')\n",
    "print(\"\\n\\n\",df.fillna(method='bfill'))\n",
    "#Using replace()\n",
    "print(\"\\n\\n\",df.replace(to_replace='BioShock',value='BioShock2'))\n",
    "#Using interpolate()\n",
    "df.interpolate(method ='linear', limit_direction ='forward')"
   ]
  },
  {
   "cell_type": "markdown",
   "metadata": {},
   "source": [
    "10.Perform the Hierarchical Indexing in the above created dataset."
   ]
  },
  {
   "cell_type": "code",
   "execution_count": 77,
   "metadata": {},
   "outputs": [
    {
     "name": "stdout",
     "output_type": "stream",
     "text": [
      "Empty DataFrame\n",
      "Columns: []\n",
      "Index: [(Alan Wake, 2012.0), (Assassins Creed III, nan), (Assassins Creed IV: Black Flag, 2013.0), (Assassins Creed: Brotherhood, 2010.0), (Assassins Creed: Revelations, nan), (BioShock, 2011.0)]\n"
     ]
    }
   ],
   "source": [
    "import pandas as pd\n",
    "import numpy as np\n",
    "Games={'Title':['Alan Wake','Assassins Creed III','Assassins Creed IV: Black Flag','Assassins Creed: Brotherhood','Assassins Creed: Revelations','BioShock'],\n",
    "    'Year':[2012,np.nan,2013,2010,np.nan,2011]}\n",
    "\n",
    "#Create a dataframe with hierarchical indexing\n",
    "df=pd.DataFrame(Games)\n",
    "\n",
    "df.set_index(['Title','Year'],inplace=True)\n",
    "print(df)"
   ]
  }
 ],
 "metadata": {
  "kernelspec": {
   "display_name": "Python 3",
   "language": "python",
   "name": "python3"
  },
  "language_info": {
   "codemirror_mode": {
    "name": "ipython",
    "version": 3
   },
   "file_extension": ".py",
   "mimetype": "text/x-python",
   "name": "python",
   "nbconvert_exporter": "python",
   "pygments_lexer": "ipython3",
   "version": "3.10.11"
  },
  "orig_nbformat": 4
 },
 "nbformat": 4,
 "nbformat_minor": 2
}
