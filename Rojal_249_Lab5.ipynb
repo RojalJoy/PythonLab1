{
 "cells": [
  {
   "cell_type": "code",
   "execution_count": 3,
   "metadata": {},
   "outputs": [
    {
     "name": "stdout",
     "output_type": "stream",
     "text": [
      "Enter the number to be divided :\n",
      "5\n",
      "Enter the number to divide with\n",
      "0\n",
      "Error :Demoninator cannote be divided by zero\n",
      "Enter the number to divide with(other than 0)\n",
      "5\n",
      "Result =  1.0\n"
     ]
    }
   ],
   "source": [
    "try:\n",
    "    num=int(input(print(\"Enter the number to be divided :\")))\n",
    "    print(num)\n",
    "    div=int(input(print(\"Enter the number to divide with\")))\n",
    "    print(div)\n",
    "    result=num/div\n",
    "    print(result)\n",
    "except ZeroDivisionError:\n",
    "    print(\"Error :Demoninator cannote be divided by zero\")\n",
    "finally:\n",
    "    div2=int(input(print(\"Enter the number to divide with(other than 0)\")))\n",
    "    print(div2)\n",
    "    result=num/div2\n",
    "    print(\"Result = \",result)"
   ]
  },
  {
   "cell_type": "code",
   "execution_count": 9,
   "metadata": {},
   "outputs": [
    {
     "name": "stdout",
     "output_type": "stream",
     "text": [
      "Index out of Bounds exception occured \n"
     ]
    }
   ],
   "source": [
    "try:\n",
    "    Lists=[4,2,8,5,9,0]\n",
    "    print(Lists[6])\n",
    "except IndexError:\n",
    "    print(\"Index out of Bounds exception occured \")\n"
   ]
  }
 ],
 "metadata": {
  "kernelspec": {
   "display_name": "Python 3",
   "language": "python",
   "name": "python3"
  },
  "language_info": {
   "codemirror_mode": {
    "name": "ipython",
    "version": 3
   },
   "file_extension": ".py",
   "mimetype": "text/x-python",
   "name": "python",
   "nbconvert_exporter": "python",
   "pygments_lexer": "ipython3",
   "version": "3.10.11"
  },
  "orig_nbformat": 4
 },
 "nbformat": 4,
 "nbformat_minor": 2
}
